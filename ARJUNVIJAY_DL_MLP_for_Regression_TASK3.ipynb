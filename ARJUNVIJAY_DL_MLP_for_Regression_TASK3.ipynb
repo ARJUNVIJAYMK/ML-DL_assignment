{
  "nbformat": 4,
  "nbformat_minor": 0,
  "metadata": {
    "colab": {
      "provenance": [],
      "authorship_tag": "ABX9TyPkZrOo+GHfKqZJhPijRC9y",
      "include_colab_link": true
    },
    "kernelspec": {
      "name": "python3",
      "display_name": "Python 3"
    },
    "language_info": {
      "name": "python"
    }
  },
  "cells": [
    {
      "cell_type": "markdown",
      "metadata": {
        "id": "view-in-github",
        "colab_type": "text"
      },
      "source": [
        "<a href=\"https://colab.research.google.com/github/ARJUNVIJAYMK/ML-DL_assignment/blob/my_sql_assignment/ARJUNVIJAY_DL_MLP_for_Regression_TASK3.ipynb\" target=\"_parent\"><img src=\"https://colab.research.google.com/assets/colab-badge.svg\" alt=\"Open In Colab\"/></a>"
      ]
    },
    {
      "cell_type": "markdown",
      "source": [
        "## **IMPORT LIBRARY**"
      ],
      "metadata": {
        "id": "lawAr-pYLlly"
      }
    },
    {
      "cell_type": "code",
      "source": [
        "import pandas as pd\n",
        "from sklearn.model_selection import train_test_split\n",
        "from sklearn.preprocessing import StandardScaler\n",
        "from tensorflow import keras\n",
        "from tensorflow.keras import layers"
      ],
      "metadata": {
        "id": "hZ4KL3oWAtCB"
      },
      "execution_count": null,
      "outputs": []
    },
    {
      "cell_type": "markdown",
      "source": [
        "# **LOAD THE DATA**"
      ],
      "metadata": {
        "id": "lB-acqnQXHUr"
      }
    },
    {
      "cell_type": "code",
      "source": [
        "url = \"https://raw.githubusercontent.com/jbrownlee/Datasets/master/housing.csv\"\n",
        "names_column = [\"CRIM\", \"ZN\", \"INDUS\", \"CHAS\", \"NOX\", \"RM\", \"AGE\", \"DIS\", \"RAD\", \"TAX\", \"PTRATIO\", \"B\", \"LSTAT\", \"MEDV\"]"
      ],
      "metadata": {
        "id": "mFFnyjxRg01I"
      },
      "execution_count": null,
      "outputs": []
    },
    {
      "cell_type": "markdown",
      "source": [
        "# **READ CSV FILE**"
      ],
      "metadata": {
        "id": "chFAQku5Q75E"
      }
    },
    {
      "cell_type": "code",
      "source": [
        "houing_data = pd.read_csv(url, names=names_column)"
      ],
      "metadata": {
        "id": "-Yzu_3cbhj9J"
      },
      "execution_count": null,
      "outputs": []
    },
    {
      "cell_type": "code",
      "source": [
        "X = houing_data.drop(\"MEDV\", axis=1)\n",
        "y = houing_data[\"MEDV\"]"
      ],
      "metadata": {
        "id": "DIsPB0xgAtMQ"
      },
      "execution_count": null,
      "outputs": []
    },
    {
      "cell_type": "code",
      "source": [
        "X[0:5]\n"
      ],
      "metadata": {
        "colab": {
          "base_uri": "https://localhost:8080/",
          "height": 206
        },
        "id": "BO5vE_mkAtO5",
        "outputId": "b4b48b6e-3c2e-49e0-cc96-dc77a260bd85"
      },
      "execution_count": null,
      "outputs": [
        {
          "output_type": "execute_result",
          "data": {
            "text/plain": [
              "      CRIM    ZN  INDUS  CHAS    NOX     RM   AGE     DIS  RAD    TAX  \\\n",
              "0  0.00632  18.0   2.31     0  0.538  6.575  65.2  4.0900    1  296.0   \n",
              "1  0.02731   0.0   7.07     0  0.469  6.421  78.9  4.9671    2  242.0   \n",
              "2  0.02729   0.0   7.07     0  0.469  7.185  61.1  4.9671    2  242.0   \n",
              "3  0.03237   0.0   2.18     0  0.458  6.998  45.8  6.0622    3  222.0   \n",
              "4  0.06905   0.0   2.18     0  0.458  7.147  54.2  6.0622    3  222.0   \n",
              "\n",
              "   PTRATIO       B  LSTAT  \n",
              "0     15.3  396.90   4.98  \n",
              "1     17.8  396.90   9.14  \n",
              "2     17.8  392.83   4.03  \n",
              "3     18.7  394.63   2.94  \n",
              "4     18.7  396.90   5.33  "
            ],
            "text/html": [
              "\n",
              "  <div id=\"df-7cb6700c-2ca5-4157-8a0c-2a9d695d62d8\" class=\"colab-df-container\">\n",
              "    <div>\n",
              "<style scoped>\n",
              "    .dataframe tbody tr th:only-of-type {\n",
              "        vertical-align: middle;\n",
              "    }\n",
              "\n",
              "    .dataframe tbody tr th {\n",
              "        vertical-align: top;\n",
              "    }\n",
              "\n",
              "    .dataframe thead th {\n",
              "        text-align: right;\n",
              "    }\n",
              "</style>\n",
              "<table border=\"1\" class=\"dataframe\">\n",
              "  <thead>\n",
              "    <tr style=\"text-align: right;\">\n",
              "      <th></th>\n",
              "      <th>CRIM</th>\n",
              "      <th>ZN</th>\n",
              "      <th>INDUS</th>\n",
              "      <th>CHAS</th>\n",
              "      <th>NOX</th>\n",
              "      <th>RM</th>\n",
              "      <th>AGE</th>\n",
              "      <th>DIS</th>\n",
              "      <th>RAD</th>\n",
              "      <th>TAX</th>\n",
              "      <th>PTRATIO</th>\n",
              "      <th>B</th>\n",
              "      <th>LSTAT</th>\n",
              "    </tr>\n",
              "  </thead>\n",
              "  <tbody>\n",
              "    <tr>\n",
              "      <th>0</th>\n",
              "      <td>0.00632</td>\n",
              "      <td>18.0</td>\n",
              "      <td>2.31</td>\n",
              "      <td>0</td>\n",
              "      <td>0.538</td>\n",
              "      <td>6.575</td>\n",
              "      <td>65.2</td>\n",
              "      <td>4.0900</td>\n",
              "      <td>1</td>\n",
              "      <td>296.0</td>\n",
              "      <td>15.3</td>\n",
              "      <td>396.90</td>\n",
              "      <td>4.98</td>\n",
              "    </tr>\n",
              "    <tr>\n",
              "      <th>1</th>\n",
              "      <td>0.02731</td>\n",
              "      <td>0.0</td>\n",
              "      <td>7.07</td>\n",
              "      <td>0</td>\n",
              "      <td>0.469</td>\n",
              "      <td>6.421</td>\n",
              "      <td>78.9</td>\n",
              "      <td>4.9671</td>\n",
              "      <td>2</td>\n",
              "      <td>242.0</td>\n",
              "      <td>17.8</td>\n",
              "      <td>396.90</td>\n",
              "      <td>9.14</td>\n",
              "    </tr>\n",
              "    <tr>\n",
              "      <th>2</th>\n",
              "      <td>0.02729</td>\n",
              "      <td>0.0</td>\n",
              "      <td>7.07</td>\n",
              "      <td>0</td>\n",
              "      <td>0.469</td>\n",
              "      <td>7.185</td>\n",
              "      <td>61.1</td>\n",
              "      <td>4.9671</td>\n",
              "      <td>2</td>\n",
              "      <td>242.0</td>\n",
              "      <td>17.8</td>\n",
              "      <td>392.83</td>\n",
              "      <td>4.03</td>\n",
              "    </tr>\n",
              "    <tr>\n",
              "      <th>3</th>\n",
              "      <td>0.03237</td>\n",
              "      <td>0.0</td>\n",
              "      <td>2.18</td>\n",
              "      <td>0</td>\n",
              "      <td>0.458</td>\n",
              "      <td>6.998</td>\n",
              "      <td>45.8</td>\n",
              "      <td>6.0622</td>\n",
              "      <td>3</td>\n",
              "      <td>222.0</td>\n",
              "      <td>18.7</td>\n",
              "      <td>394.63</td>\n",
              "      <td>2.94</td>\n",
              "    </tr>\n",
              "    <tr>\n",
              "      <th>4</th>\n",
              "      <td>0.06905</td>\n",
              "      <td>0.0</td>\n",
              "      <td>2.18</td>\n",
              "      <td>0</td>\n",
              "      <td>0.458</td>\n",
              "      <td>7.147</td>\n",
              "      <td>54.2</td>\n",
              "      <td>6.0622</td>\n",
              "      <td>3</td>\n",
              "      <td>222.0</td>\n",
              "      <td>18.7</td>\n",
              "      <td>396.90</td>\n",
              "      <td>5.33</td>\n",
              "    </tr>\n",
              "  </tbody>\n",
              "</table>\n",
              "</div>\n",
              "    <div class=\"colab-df-buttons\">\n",
              "\n",
              "  <div class=\"colab-df-container\">\n",
              "    <button class=\"colab-df-convert\" onclick=\"convertToInteractive('df-7cb6700c-2ca5-4157-8a0c-2a9d695d62d8')\"\n",
              "            title=\"Convert this dataframe to an interactive table.\"\n",
              "            style=\"display:none;\">\n",
              "\n",
              "  <svg xmlns=\"http://www.w3.org/2000/svg\" height=\"24px\" viewBox=\"0 -960 960 960\">\n",
              "    <path d=\"M120-120v-720h720v720H120Zm60-500h600v-160H180v160Zm220 220h160v-160H400v160Zm0 220h160v-160H400v160ZM180-400h160v-160H180v160Zm440 0h160v-160H620v160ZM180-180h160v-160H180v160Zm440 0h160v-160H620v160Z\"/>\n",
              "  </svg>\n",
              "    </button>\n",
              "\n",
              "  <style>\n",
              "    .colab-df-container {\n",
              "      display:flex;\n",
              "      gap: 12px;\n",
              "    }\n",
              "\n",
              "    .colab-df-convert {\n",
              "      background-color: #E8F0FE;\n",
              "      border: none;\n",
              "      border-radius: 50%;\n",
              "      cursor: pointer;\n",
              "      display: none;\n",
              "      fill: #1967D2;\n",
              "      height: 32px;\n",
              "      padding: 0 0 0 0;\n",
              "      width: 32px;\n",
              "    }\n",
              "\n",
              "    .colab-df-convert:hover {\n",
              "      background-color: #E2EBFA;\n",
              "      box-shadow: 0px 1px 2px rgba(60, 64, 67, 0.3), 0px 1px 3px 1px rgba(60, 64, 67, 0.15);\n",
              "      fill: #174EA6;\n",
              "    }\n",
              "\n",
              "    .colab-df-buttons div {\n",
              "      margin-bottom: 4px;\n",
              "    }\n",
              "\n",
              "    [theme=dark] .colab-df-convert {\n",
              "      background-color: #3B4455;\n",
              "      fill: #D2E3FC;\n",
              "    }\n",
              "\n",
              "    [theme=dark] .colab-df-convert:hover {\n",
              "      background-color: #434B5C;\n",
              "      box-shadow: 0px 1px 3px 1px rgba(0, 0, 0, 0.15);\n",
              "      filter: drop-shadow(0px 1px 2px rgba(0, 0, 0, 0.3));\n",
              "      fill: #FFFFFF;\n",
              "    }\n",
              "  </style>\n",
              "\n",
              "    <script>\n",
              "      const buttonEl =\n",
              "        document.querySelector('#df-7cb6700c-2ca5-4157-8a0c-2a9d695d62d8 button.colab-df-convert');\n",
              "      buttonEl.style.display =\n",
              "        google.colab.kernel.accessAllowed ? 'block' : 'none';\n",
              "\n",
              "      async function convertToInteractive(key) {\n",
              "        const element = document.querySelector('#df-7cb6700c-2ca5-4157-8a0c-2a9d695d62d8');\n",
              "        const dataTable =\n",
              "          await google.colab.kernel.invokeFunction('convertToInteractive',\n",
              "                                                    [key], {});\n",
              "        if (!dataTable) return;\n",
              "\n",
              "        const docLinkHtml = 'Like what you see? Visit the ' +\n",
              "          '<a target=\"_blank\" href=https://colab.research.google.com/notebooks/data_table.ipynb>data table notebook</a>'\n",
              "          + ' to learn more about interactive tables.';\n",
              "        element.innerHTML = '';\n",
              "        dataTable['output_type'] = 'display_data';\n",
              "        await google.colab.output.renderOutput(dataTable, element);\n",
              "        const docLink = document.createElement('div');\n",
              "        docLink.innerHTML = docLinkHtml;\n",
              "        element.appendChild(docLink);\n",
              "      }\n",
              "    </script>\n",
              "  </div>\n",
              "\n",
              "\n",
              "<div id=\"df-60df7f44-7cd2-4add-be59-14f2382bc76a\">\n",
              "  <button class=\"colab-df-quickchart\" onclick=\"quickchart('df-60df7f44-7cd2-4add-be59-14f2382bc76a')\"\n",
              "            title=\"Suggest charts\"\n",
              "            style=\"display:none;\">\n",
              "\n",
              "<svg xmlns=\"http://www.w3.org/2000/svg\" height=\"24px\"viewBox=\"0 0 24 24\"\n",
              "     width=\"24px\">\n",
              "    <g>\n",
              "        <path d=\"M19 3H5c-1.1 0-2 .9-2 2v14c0 1.1.9 2 2 2h14c1.1 0 2-.9 2-2V5c0-1.1-.9-2-2-2zM9 17H7v-7h2v7zm4 0h-2V7h2v10zm4 0h-2v-4h2v4z\"/>\n",
              "    </g>\n",
              "</svg>\n",
              "  </button>\n",
              "\n",
              "<style>\n",
              "  .colab-df-quickchart {\n",
              "      --bg-color: #E8F0FE;\n",
              "      --fill-color: #1967D2;\n",
              "      --hover-bg-color: #E2EBFA;\n",
              "      --hover-fill-color: #174EA6;\n",
              "      --disabled-fill-color: #AAA;\n",
              "      --disabled-bg-color: #DDD;\n",
              "  }\n",
              "\n",
              "  [theme=dark] .colab-df-quickchart {\n",
              "      --bg-color: #3B4455;\n",
              "      --fill-color: #D2E3FC;\n",
              "      --hover-bg-color: #434B5C;\n",
              "      --hover-fill-color: #FFFFFF;\n",
              "      --disabled-bg-color: #3B4455;\n",
              "      --disabled-fill-color: #666;\n",
              "  }\n",
              "\n",
              "  .colab-df-quickchart {\n",
              "    background-color: var(--bg-color);\n",
              "    border: none;\n",
              "    border-radius: 50%;\n",
              "    cursor: pointer;\n",
              "    display: none;\n",
              "    fill: var(--fill-color);\n",
              "    height: 32px;\n",
              "    padding: 0;\n",
              "    width: 32px;\n",
              "  }\n",
              "\n",
              "  .colab-df-quickchart:hover {\n",
              "    background-color: var(--hover-bg-color);\n",
              "    box-shadow: 0 1px 2px rgba(60, 64, 67, 0.3), 0 1px 3px 1px rgba(60, 64, 67, 0.15);\n",
              "    fill: var(--button-hover-fill-color);\n",
              "  }\n",
              "\n",
              "  .colab-df-quickchart-complete:disabled,\n",
              "  .colab-df-quickchart-complete:disabled:hover {\n",
              "    background-color: var(--disabled-bg-color);\n",
              "    fill: var(--disabled-fill-color);\n",
              "    box-shadow: none;\n",
              "  }\n",
              "\n",
              "  .colab-df-spinner {\n",
              "    border: 2px solid var(--fill-color);\n",
              "    border-color: transparent;\n",
              "    border-bottom-color: var(--fill-color);\n",
              "    animation:\n",
              "      spin 1s steps(1) infinite;\n",
              "  }\n",
              "\n",
              "  @keyframes spin {\n",
              "    0% {\n",
              "      border-color: transparent;\n",
              "      border-bottom-color: var(--fill-color);\n",
              "      border-left-color: var(--fill-color);\n",
              "    }\n",
              "    20% {\n",
              "      border-color: transparent;\n",
              "      border-left-color: var(--fill-color);\n",
              "      border-top-color: var(--fill-color);\n",
              "    }\n",
              "    30% {\n",
              "      border-color: transparent;\n",
              "      border-left-color: var(--fill-color);\n",
              "      border-top-color: var(--fill-color);\n",
              "      border-right-color: var(--fill-color);\n",
              "    }\n",
              "    40% {\n",
              "      border-color: transparent;\n",
              "      border-right-color: var(--fill-color);\n",
              "      border-top-color: var(--fill-color);\n",
              "    }\n",
              "    60% {\n",
              "      border-color: transparent;\n",
              "      border-right-color: var(--fill-color);\n",
              "    }\n",
              "    80% {\n",
              "      border-color: transparent;\n",
              "      border-right-color: var(--fill-color);\n",
              "      border-bottom-color: var(--fill-color);\n",
              "    }\n",
              "    90% {\n",
              "      border-color: transparent;\n",
              "      border-bottom-color: var(--fill-color);\n",
              "    }\n",
              "  }\n",
              "</style>\n",
              "\n",
              "  <script>\n",
              "    async function quickchart(key) {\n",
              "      const quickchartButtonEl =\n",
              "        document.querySelector('#' + key + ' button');\n",
              "      quickchartButtonEl.disabled = true;  // To prevent multiple clicks.\n",
              "      quickchartButtonEl.classList.add('colab-df-spinner');\n",
              "      try {\n",
              "        const charts = await google.colab.kernel.invokeFunction(\n",
              "            'suggestCharts', [key], {});\n",
              "      } catch (error) {\n",
              "        console.error('Error during call to suggestCharts:', error);\n",
              "      }\n",
              "      quickchartButtonEl.classList.remove('colab-df-spinner');\n",
              "      quickchartButtonEl.classList.add('colab-df-quickchart-complete');\n",
              "    }\n",
              "    (() => {\n",
              "      let quickchartButtonEl =\n",
              "        document.querySelector('#df-60df7f44-7cd2-4add-be59-14f2382bc76a button');\n",
              "      quickchartButtonEl.style.display =\n",
              "        google.colab.kernel.accessAllowed ? 'block' : 'none';\n",
              "    })();\n",
              "  </script>\n",
              "</div>\n",
              "\n",
              "    </div>\n",
              "  </div>\n"
            ]
          },
          "metadata": {},
          "execution_count": 8
        }
      ]
    },
    {
      "cell_type": "code",
      "source": [
        "y[0:5]"
      ],
      "metadata": {
        "colab": {
          "base_uri": "https://localhost:8080/"
        },
        "id": "cmj-ZDucAtRd",
        "outputId": "e907e17b-da17-4ee0-df7e-dd90481c1ec0"
      },
      "execution_count": null,
      "outputs": [
        {
          "output_type": "execute_result",
          "data": {
            "text/plain": [
              "0    24.0\n",
              "1    21.6\n",
              "2    34.7\n",
              "3    33.4\n",
              "4    36.2\n",
              "Name: MEDV, dtype: float64"
            ]
          },
          "metadata": {},
          "execution_count": 9
        }
      ]
    },
    {
      "cell_type": "code",
      "source": [
        "X_train, X_test, y_train, y_test = train_test_split(X, y, test_size=0.2, random_state=42)"
      ],
      "metadata": {
        "id": "6fJP3JZEAtWf"
      },
      "execution_count": null,
      "outputs": []
    },
    {
      "cell_type": "markdown",
      "source": [
        "# **CREATE MLP MODEL**"
      ],
      "metadata": {
        "id": "6w2H6UaqStoG"
      }
    },
    {
      "cell_type": "code",
      "source": [
        "scaler = StandardScaler()\n",
        "X_train = scaler.fit_transform(X_train)\n",
        "X_test = scaler.transform(X_test)"
      ],
      "metadata": {
        "id": "rIaoBIqBd1kr"
      },
      "execution_count": null,
      "outputs": []
    },
    {
      "cell_type": "code",
      "source": [
        "model = keras.Sequential([\n",
        "    layers.Dense(64, activation='relu', input_shape=(13,)),\n",
        "    layers.Dense(64, activation='relu'),\n",
        "    layers.Dense(1)\n",
        "])"
      ],
      "metadata": {
        "id": "9NEw4yxgdu-_"
      },
      "execution_count": null,
      "outputs": []
    },
    {
      "cell_type": "code",
      "source": [
        "model.compile(optimizer='adam',\n",
        "              loss='mean_squared_error',\n",
        "              metrics=['mae'])"
      ],
      "metadata": {
        "id": "kelgEtVsuWzm"
      },
      "execution_count": null,
      "outputs": []
    },
    {
      "cell_type": "markdown",
      "source": [
        "EVALUATE THE MODLE"
      ],
      "metadata": {
        "id": "KKBcg8nlT632"
      }
    },
    {
      "cell_type": "code",
      "source": [
        "model.fit(X_train, y_train, epochs=50, batch_size=32, validation_split=0.2)"
      ],
      "metadata": {
        "colab": {
          "base_uri": "https://localhost:8080/"
        },
        "id": "58PX5xctAtgX",
        "outputId": "08dd8a11-6ef2-48b5-eff2-03a1d635dc5c"
      },
      "execution_count": null,
      "outputs": [
        {
          "output_type": "stream",
          "name": "stdout",
          "text": [
            "Epoch 1/50\n",
            "11/11 [==============================] - 2s 41ms/step - loss: 588.5544 - mae: 22.2622 - val_loss: 505.0710 - val_mae: 20.8730\n",
            "Epoch 2/50\n",
            "11/11 [==============================] - 0s 10ms/step - loss: 537.0080 - mae: 21.0956 - val_loss: 453.1488 - val_mae: 19.6442\n",
            "Epoch 3/50\n",
            "11/11 [==============================] - 0s 11ms/step - loss: 473.3680 - mae: 19.6391 - val_loss: 388.8730 - val_mae: 18.0154\n",
            "Epoch 4/50\n",
            "11/11 [==============================] - 0s 10ms/step - loss: 395.3004 - mae: 17.6969 - val_loss: 308.8168 - val_mae: 15.8742\n",
            "Epoch 5/50\n",
            "11/11 [==============================] - 0s 9ms/step - loss: 299.4643 - mae: 15.0493 - val_loss: 217.1790 - val_mae: 13.0837\n",
            "Epoch 6/50\n",
            "11/11 [==============================] - 0s 8ms/step - loss: 198.8963 - mae: 11.8905 - val_loss: 131.8529 - val_mae: 9.7110\n",
            "Epoch 7/50\n",
            "11/11 [==============================] - 0s 9ms/step - loss: 119.8689 - mae: 8.7500 - val_loss: 73.4668 - val_mae: 6.5249\n",
            "Epoch 8/50\n",
            "11/11 [==============================] - 0s 9ms/step - loss: 73.0803 - mae: 6.7159 - val_loss: 47.6120 - val_mae: 4.7454\n",
            "Epoch 9/50\n",
            "11/11 [==============================] - 0s 5ms/step - loss: 55.6898 - mae: 5.7453 - val_loss: 38.1842 - val_mae: 4.1439\n",
            "Epoch 10/50\n",
            "11/11 [==============================] - 0s 6ms/step - loss: 42.9954 - mae: 4.9760 - val_loss: 32.8945 - val_mae: 3.7863\n",
            "Epoch 11/50\n",
            "11/11 [==============================] - 0s 7ms/step - loss: 34.6606 - mae: 4.3754 - val_loss: 32.0141 - val_mae: 3.7229\n",
            "Epoch 12/50\n",
            "11/11 [==============================] - 0s 5ms/step - loss: 30.5311 - mae: 4.0357 - val_loss: 31.7246 - val_mae: 3.7297\n",
            "Epoch 13/50\n",
            "11/11 [==============================] - 0s 5ms/step - loss: 28.0642 - mae: 3.8216 - val_loss: 31.7457 - val_mae: 3.7555\n",
            "Epoch 14/50\n",
            "11/11 [==============================] - 0s 5ms/step - loss: 26.3360 - mae: 3.7149 - val_loss: 30.7903 - val_mae: 3.7185\n",
            "Epoch 15/50\n",
            "11/11 [==============================] - 0s 6ms/step - loss: 24.8673 - mae: 3.6044 - val_loss: 29.2895 - val_mae: 3.6247\n",
            "Epoch 16/50\n",
            "11/11 [==============================] - 0s 5ms/step - loss: 23.2714 - mae: 3.4801 - val_loss: 28.2404 - val_mae: 3.5503\n",
            "Epoch 17/50\n",
            "11/11 [==============================] - 0s 5ms/step - loss: 22.1879 - mae: 3.4065 - val_loss: 27.2704 - val_mae: 3.5020\n",
            "Epoch 18/50\n",
            "11/11 [==============================] - 0s 5ms/step - loss: 21.1329 - mae: 3.3355 - val_loss: 26.8538 - val_mae: 3.4959\n",
            "Epoch 19/50\n",
            "11/11 [==============================] - 0s 5ms/step - loss: 20.2164 - mae: 3.2619 - val_loss: 26.5514 - val_mae: 3.4751\n",
            "Epoch 20/50\n",
            "11/11 [==============================] - 0s 5ms/step - loss: 19.3465 - mae: 3.1553 - val_loss: 25.4370 - val_mae: 3.3859\n",
            "Epoch 21/50\n",
            "11/11 [==============================] - 0s 7ms/step - loss: 18.7002 - mae: 3.0715 - val_loss: 24.8793 - val_mae: 3.3552\n",
            "Epoch 22/50\n",
            "11/11 [==============================] - 0s 5ms/step - loss: 17.9233 - mae: 3.0048 - val_loss: 24.0577 - val_mae: 3.2852\n",
            "Epoch 23/50\n",
            "11/11 [==============================] - 0s 6ms/step - loss: 17.4047 - mae: 2.9797 - val_loss: 23.6334 - val_mae: 3.2464\n",
            "Epoch 24/50\n",
            "11/11 [==============================] - 0s 6ms/step - loss: 16.8725 - mae: 2.9441 - val_loss: 23.3057 - val_mae: 3.2159\n",
            "Epoch 25/50\n",
            "11/11 [==============================] - 0s 6ms/step - loss: 16.4326 - mae: 2.9118 - val_loss: 22.6820 - val_mae: 3.1689\n",
            "Epoch 26/50\n",
            "11/11 [==============================] - 0s 6ms/step - loss: 16.0278 - mae: 2.8644 - val_loss: 22.0564 - val_mae: 3.1197\n",
            "Epoch 27/50\n",
            "11/11 [==============================] - 0s 5ms/step - loss: 15.9257 - mae: 2.9167 - val_loss: 21.7624 - val_mae: 3.1540\n",
            "Epoch 28/50\n",
            "11/11 [==============================] - 0s 7ms/step - loss: 15.5663 - mae: 2.9278 - val_loss: 21.5941 - val_mae: 3.1306\n",
            "Epoch 29/50\n",
            "11/11 [==============================] - 0s 7ms/step - loss: 14.8347 - mae: 2.8209 - val_loss: 21.1131 - val_mae: 3.0838\n",
            "Epoch 30/50\n",
            "11/11 [==============================] - 0s 6ms/step - loss: 14.5605 - mae: 2.7790 - val_loss: 20.7477 - val_mae: 3.0397\n",
            "Epoch 31/50\n",
            "11/11 [==============================] - 0s 7ms/step - loss: 14.3278 - mae: 2.7672 - val_loss: 21.2076 - val_mae: 3.0976\n",
            "Epoch 32/50\n",
            "11/11 [==============================] - 0s 6ms/step - loss: 14.0249 - mae: 2.7219 - val_loss: 20.7142 - val_mae: 3.0848\n",
            "Epoch 33/50\n",
            "11/11 [==============================] - 0s 5ms/step - loss: 13.9718 - mae: 2.6850 - val_loss: 20.3618 - val_mae: 3.0362\n",
            "Epoch 34/50\n",
            "11/11 [==============================] - 0s 7ms/step - loss: 13.6531 - mae: 2.6554 - val_loss: 20.4221 - val_mae: 3.0599\n",
            "Epoch 35/50\n",
            "11/11 [==============================] - 0s 6ms/step - loss: 13.3413 - mae: 2.6474 - val_loss: 20.1807 - val_mae: 3.0360\n",
            "Epoch 36/50\n",
            "11/11 [==============================] - 0s 5ms/step - loss: 13.2475 - mae: 2.6592 - val_loss: 19.8537 - val_mae: 2.9930\n",
            "Epoch 37/50\n",
            "11/11 [==============================] - 0s 6ms/step - loss: 13.0388 - mae: 2.6354 - val_loss: 19.8192 - val_mae: 3.0006\n",
            "Epoch 38/50\n",
            "11/11 [==============================] - 0s 7ms/step - loss: 12.8840 - mae: 2.6216 - val_loss: 19.6774 - val_mae: 2.9944\n",
            "Epoch 39/50\n",
            "11/11 [==============================] - 0s 5ms/step - loss: 12.7311 - mae: 2.5780 - val_loss: 19.4025 - val_mae: 2.9688\n",
            "Epoch 40/50\n",
            "11/11 [==============================] - 0s 5ms/step - loss: 12.6096 - mae: 2.5644 - val_loss: 19.3552 - val_mae: 2.9622\n",
            "Epoch 41/50\n",
            "11/11 [==============================] - 0s 5ms/step - loss: 12.3459 - mae: 2.5392 - val_loss: 20.2972 - val_mae: 2.9774\n",
            "Epoch 42/50\n",
            "11/11 [==============================] - 0s 5ms/step - loss: 12.9248 - mae: 2.5705 - val_loss: 20.2893 - val_mae: 2.9724\n",
            "Epoch 43/50\n",
            "11/11 [==============================] - 0s 5ms/step - loss: 12.6846 - mae: 2.6084 - val_loss: 20.2794 - val_mae: 2.9863\n",
            "Epoch 44/50\n",
            "11/11 [==============================] - 0s 6ms/step - loss: 12.2712 - mae: 2.5746 - val_loss: 19.0561 - val_mae: 2.8947\n",
            "Epoch 45/50\n",
            "11/11 [==============================] - 0s 5ms/step - loss: 12.1908 - mae: 2.5199 - val_loss: 18.8330 - val_mae: 2.8885\n",
            "Epoch 46/50\n",
            "11/11 [==============================] - 0s 6ms/step - loss: 11.8804 - mae: 2.4882 - val_loss: 19.0850 - val_mae: 2.9269\n",
            "Epoch 47/50\n",
            "11/11 [==============================] - 0s 5ms/step - loss: 11.9285 - mae: 2.5327 - val_loss: 19.3822 - val_mae: 2.9767\n",
            "Epoch 48/50\n",
            "11/11 [==============================] - 0s 6ms/step - loss: 11.7093 - mae: 2.5063 - val_loss: 18.6009 - val_mae: 2.9120\n",
            "Epoch 49/50\n",
            "11/11 [==============================] - 0s 6ms/step - loss: 11.5824 - mae: 2.4972 - val_loss: 18.8038 - val_mae: 2.9457\n",
            "Epoch 50/50\n",
            "11/11 [==============================] - 0s 5ms/step - loss: 11.4184 - mae: 2.4698 - val_loss: 17.4022 - val_mae: 2.8496\n"
          ]
        },
        {
          "output_type": "execute_result",
          "data": {
            "text/plain": [
              "<keras.src.callbacks.History at 0x7d21604c69b0>"
            ]
          },
          "metadata": {},
          "execution_count": 22
        }
      ]
    },
    {
      "cell_type": "code",
      "source": [
        "test_loss, test_mae = model.evaluate(X_test, y_test)\n",
        "print(f\"Test Accuracy: {test_mae}\")"
      ],
      "metadata": {
        "id": "a-HFk9NvAtj1",
        "colab": {
          "base_uri": "https://localhost:8080/"
        },
        "outputId": "b0fcf488-4994-4e02-f0b0-7d6a7ab55484"
      },
      "execution_count": null,
      "outputs": [
        {
          "output_type": "stream",
          "name": "stdout",
          "text": [
            "4/4 [==============================] - 0s 8ms/step - loss: 14.1720 - mae: 2.4618\n",
            "Test Accuracy: 2.461789608001709\n"
          ]
        }
      ]
    },
    {
      "cell_type": "code",
      "source": [
        "from google.colab import drive\n",
        "drive.mount('/content/drive')"
      ],
      "metadata": {
        "id": "4oj1Qn_6soEZ"
      },
      "execution_count": null,
      "outputs": []
    }
  ]
}