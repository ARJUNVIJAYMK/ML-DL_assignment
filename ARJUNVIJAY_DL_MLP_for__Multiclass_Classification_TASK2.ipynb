{
  "nbformat": 4,
  "nbformat_minor": 0,
  "metadata": {
    "colab": {
      "provenance": [],
      "authorship_tag": "ABX9TyOmISIT4l/pyL+JOHV91DOL",
      "include_colab_link": true
    },
    "kernelspec": {
      "name": "python3",
      "display_name": "Python 3"
    },
    "language_info": {
      "name": "python"
    }
  },
  "cells": [
    {
      "cell_type": "markdown",
      "metadata": {
        "id": "view-in-github",
        "colab_type": "text"
      },
      "source": [
        "<a href=\"https://colab.research.google.com/github/ARJUNVIJAYMK/ML-DL_assignment/blob/my_sql_assignment/ARJUNVIJAY_DL_MLP_for__Multiclass_Classification_TASK2.ipynb\" target=\"_parent\"><img src=\"https://colab.research.google.com/assets/colab-badge.svg\" alt=\"Open In Colab\"/></a>"
      ]
    },
    {
      "cell_type": "markdown",
      "source": [
        "## **IMPORT LIBRARY**"
      ],
      "metadata": {
        "id": "lawAr-pYLlly"
      }
    },
    {
      "cell_type": "code",
      "source": [
        "import pandas as pd\n",
        "from sklearn.model_selection import train_test_split\n",
        "from sklearn.preprocessing import StandardScaler\n",
        "from sklearn.metrics import accuracy_score\n",
        "from tensorflow import keras\n",
        "from tensorflow.keras import layers"
      ],
      "metadata": {
        "id": "hZ4KL3oWAtCB"
      },
      "execution_count": null,
      "outputs": []
    },
    {
      "cell_type": "markdown",
      "source": [
        "# **LOAD THE DATA**"
      ],
      "metadata": {
        "id": "lB-acqnQXHUr"
      }
    },
    {
      "cell_type": "code",
      "source": [
        "url = \" https://raw.githubusercontent.com/jbrownlee/Datasets/master/iris.csv\"\n",
        "names_column = ['sepal-length', 'sepal-width', 'petal-length', 'petal-width', 'class']"
      ],
      "metadata": {
        "id": "mFFnyjxRg01I"
      },
      "execution_count": null,
      "outputs": []
    },
    {
      "cell_type": "markdown",
      "source": [
        "# **READ CSV FILE**"
      ],
      "metadata": {
        "id": "chFAQku5Q75E"
      }
    },
    {
      "cell_type": "code",
      "source": [
        "iris_dataset = pd.read_csv(url, names=names_column)"
      ],
      "metadata": {
        "id": "-Yzu_3cbhj9J"
      },
      "execution_count": null,
      "outputs": []
    },
    {
      "cell_type": "code",
      "source": [
        "class_mapping = {\"Iris-setosa\": 0, \"Iris-versicolor\": 1, \"Iris-virginica\": 2}\n",
        "iris_dataset[\"class\"] = iris_dataset[\"class\"].map(class_mapping)"
      ],
      "metadata": {
        "id": "fE89yRC2AtKD"
      },
      "execution_count": null,
      "outputs": []
    },
    {
      "cell_type": "code",
      "source": [
        "X = iris_dataset.drop(\"class\", axis=1)\n",
        "y = iris_dataset[\"class\"]"
      ],
      "metadata": {
        "id": "DIsPB0xgAtMQ"
      },
      "execution_count": null,
      "outputs": []
    },
    {
      "cell_type": "code",
      "source": [
        "X[0:5]\n"
      ],
      "metadata": {
        "colab": {
          "base_uri": "https://localhost:8080/",
          "height": 206
        },
        "id": "BO5vE_mkAtO5",
        "outputId": "21078ec3-2b2d-488d-f549-2ccca8c3695f"
      },
      "execution_count": null,
      "outputs": [
        {
          "output_type": "execute_result",
          "data": {
            "text/plain": [
              "   sepal-length  sepal-width  petal-length  petal-width\n",
              "0           5.1          3.5           1.4          0.2\n",
              "1           4.9          3.0           1.4          0.2\n",
              "2           4.7          3.2           1.3          0.2\n",
              "3           4.6          3.1           1.5          0.2\n",
              "4           5.0          3.6           1.4          0.2"
            ],
            "text/html": [
              "\n",
              "  <div id=\"df-721cd936-cfdf-43b0-b56b-500268bcf5bc\" class=\"colab-df-container\">\n",
              "    <div>\n",
              "<style scoped>\n",
              "    .dataframe tbody tr th:only-of-type {\n",
              "        vertical-align: middle;\n",
              "    }\n",
              "\n",
              "    .dataframe tbody tr th {\n",
              "        vertical-align: top;\n",
              "    }\n",
              "\n",
              "    .dataframe thead th {\n",
              "        text-align: right;\n",
              "    }\n",
              "</style>\n",
              "<table border=\"1\" class=\"dataframe\">\n",
              "  <thead>\n",
              "    <tr style=\"text-align: right;\">\n",
              "      <th></th>\n",
              "      <th>sepal-length</th>\n",
              "      <th>sepal-width</th>\n",
              "      <th>petal-length</th>\n",
              "      <th>petal-width</th>\n",
              "    </tr>\n",
              "  </thead>\n",
              "  <tbody>\n",
              "    <tr>\n",
              "      <th>0</th>\n",
              "      <td>5.1</td>\n",
              "      <td>3.5</td>\n",
              "      <td>1.4</td>\n",
              "      <td>0.2</td>\n",
              "    </tr>\n",
              "    <tr>\n",
              "      <th>1</th>\n",
              "      <td>4.9</td>\n",
              "      <td>3.0</td>\n",
              "      <td>1.4</td>\n",
              "      <td>0.2</td>\n",
              "    </tr>\n",
              "    <tr>\n",
              "      <th>2</th>\n",
              "      <td>4.7</td>\n",
              "      <td>3.2</td>\n",
              "      <td>1.3</td>\n",
              "      <td>0.2</td>\n",
              "    </tr>\n",
              "    <tr>\n",
              "      <th>3</th>\n",
              "      <td>4.6</td>\n",
              "      <td>3.1</td>\n",
              "      <td>1.5</td>\n",
              "      <td>0.2</td>\n",
              "    </tr>\n",
              "    <tr>\n",
              "      <th>4</th>\n",
              "      <td>5.0</td>\n",
              "      <td>3.6</td>\n",
              "      <td>1.4</td>\n",
              "      <td>0.2</td>\n",
              "    </tr>\n",
              "  </tbody>\n",
              "</table>\n",
              "</div>\n",
              "    <div class=\"colab-df-buttons\">\n",
              "\n",
              "  <div class=\"colab-df-container\">\n",
              "    <button class=\"colab-df-convert\" onclick=\"convertToInteractive('df-721cd936-cfdf-43b0-b56b-500268bcf5bc')\"\n",
              "            title=\"Convert this dataframe to an interactive table.\"\n",
              "            style=\"display:none;\">\n",
              "\n",
              "  <svg xmlns=\"http://www.w3.org/2000/svg\" height=\"24px\" viewBox=\"0 -960 960 960\">\n",
              "    <path d=\"M120-120v-720h720v720H120Zm60-500h600v-160H180v160Zm220 220h160v-160H400v160Zm0 220h160v-160H400v160ZM180-400h160v-160H180v160Zm440 0h160v-160H620v160ZM180-180h160v-160H180v160Zm440 0h160v-160H620v160Z\"/>\n",
              "  </svg>\n",
              "    </button>\n",
              "\n",
              "  <style>\n",
              "    .colab-df-container {\n",
              "      display:flex;\n",
              "      gap: 12px;\n",
              "    }\n",
              "\n",
              "    .colab-df-convert {\n",
              "      background-color: #E8F0FE;\n",
              "      border: none;\n",
              "      border-radius: 50%;\n",
              "      cursor: pointer;\n",
              "      display: none;\n",
              "      fill: #1967D2;\n",
              "      height: 32px;\n",
              "      padding: 0 0 0 0;\n",
              "      width: 32px;\n",
              "    }\n",
              "\n",
              "    .colab-df-convert:hover {\n",
              "      background-color: #E2EBFA;\n",
              "      box-shadow: 0px 1px 2px rgba(60, 64, 67, 0.3), 0px 1px 3px 1px rgba(60, 64, 67, 0.15);\n",
              "      fill: #174EA6;\n",
              "    }\n",
              "\n",
              "    .colab-df-buttons div {\n",
              "      margin-bottom: 4px;\n",
              "    }\n",
              "\n",
              "    [theme=dark] .colab-df-convert {\n",
              "      background-color: #3B4455;\n",
              "      fill: #D2E3FC;\n",
              "    }\n",
              "\n",
              "    [theme=dark] .colab-df-convert:hover {\n",
              "      background-color: #434B5C;\n",
              "      box-shadow: 0px 1px 3px 1px rgba(0, 0, 0, 0.15);\n",
              "      filter: drop-shadow(0px 1px 2px rgba(0, 0, 0, 0.3));\n",
              "      fill: #FFFFFF;\n",
              "    }\n",
              "  </style>\n",
              "\n",
              "    <script>\n",
              "      const buttonEl =\n",
              "        document.querySelector('#df-721cd936-cfdf-43b0-b56b-500268bcf5bc button.colab-df-convert');\n",
              "      buttonEl.style.display =\n",
              "        google.colab.kernel.accessAllowed ? 'block' : 'none';\n",
              "\n",
              "      async function convertToInteractive(key) {\n",
              "        const element = document.querySelector('#df-721cd936-cfdf-43b0-b56b-500268bcf5bc');\n",
              "        const dataTable =\n",
              "          await google.colab.kernel.invokeFunction('convertToInteractive',\n",
              "                                                    [key], {});\n",
              "        if (!dataTable) return;\n",
              "\n",
              "        const docLinkHtml = 'Like what you see? Visit the ' +\n",
              "          '<a target=\"_blank\" href=https://colab.research.google.com/notebooks/data_table.ipynb>data table notebook</a>'\n",
              "          + ' to learn more about interactive tables.';\n",
              "        element.innerHTML = '';\n",
              "        dataTable['output_type'] = 'display_data';\n",
              "        await google.colab.output.renderOutput(dataTable, element);\n",
              "        const docLink = document.createElement('div');\n",
              "        docLink.innerHTML = docLinkHtml;\n",
              "        element.appendChild(docLink);\n",
              "      }\n",
              "    </script>\n",
              "  </div>\n",
              "\n",
              "\n",
              "<div id=\"df-679b4605-9e0b-4db1-9ed5-cd6450e70356\">\n",
              "  <button class=\"colab-df-quickchart\" onclick=\"quickchart('df-679b4605-9e0b-4db1-9ed5-cd6450e70356')\"\n",
              "            title=\"Suggest charts\"\n",
              "            style=\"display:none;\">\n",
              "\n",
              "<svg xmlns=\"http://www.w3.org/2000/svg\" height=\"24px\"viewBox=\"0 0 24 24\"\n",
              "     width=\"24px\">\n",
              "    <g>\n",
              "        <path d=\"M19 3H5c-1.1 0-2 .9-2 2v14c0 1.1.9 2 2 2h14c1.1 0 2-.9 2-2V5c0-1.1-.9-2-2-2zM9 17H7v-7h2v7zm4 0h-2V7h2v10zm4 0h-2v-4h2v4z\"/>\n",
              "    </g>\n",
              "</svg>\n",
              "  </button>\n",
              "\n",
              "<style>\n",
              "  .colab-df-quickchart {\n",
              "      --bg-color: #E8F0FE;\n",
              "      --fill-color: #1967D2;\n",
              "      --hover-bg-color: #E2EBFA;\n",
              "      --hover-fill-color: #174EA6;\n",
              "      --disabled-fill-color: #AAA;\n",
              "      --disabled-bg-color: #DDD;\n",
              "  }\n",
              "\n",
              "  [theme=dark] .colab-df-quickchart {\n",
              "      --bg-color: #3B4455;\n",
              "      --fill-color: #D2E3FC;\n",
              "      --hover-bg-color: #434B5C;\n",
              "      --hover-fill-color: #FFFFFF;\n",
              "      --disabled-bg-color: #3B4455;\n",
              "      --disabled-fill-color: #666;\n",
              "  }\n",
              "\n",
              "  .colab-df-quickchart {\n",
              "    background-color: var(--bg-color);\n",
              "    border: none;\n",
              "    border-radius: 50%;\n",
              "    cursor: pointer;\n",
              "    display: none;\n",
              "    fill: var(--fill-color);\n",
              "    height: 32px;\n",
              "    padding: 0;\n",
              "    width: 32px;\n",
              "  }\n",
              "\n",
              "  .colab-df-quickchart:hover {\n",
              "    background-color: var(--hover-bg-color);\n",
              "    box-shadow: 0 1px 2px rgba(60, 64, 67, 0.3), 0 1px 3px 1px rgba(60, 64, 67, 0.15);\n",
              "    fill: var(--button-hover-fill-color);\n",
              "  }\n",
              "\n",
              "  .colab-df-quickchart-complete:disabled,\n",
              "  .colab-df-quickchart-complete:disabled:hover {\n",
              "    background-color: var(--disabled-bg-color);\n",
              "    fill: var(--disabled-fill-color);\n",
              "    box-shadow: none;\n",
              "  }\n",
              "\n",
              "  .colab-df-spinner {\n",
              "    border: 2px solid var(--fill-color);\n",
              "    border-color: transparent;\n",
              "    border-bottom-color: var(--fill-color);\n",
              "    animation:\n",
              "      spin 1s steps(1) infinite;\n",
              "  }\n",
              "\n",
              "  @keyframes spin {\n",
              "    0% {\n",
              "      border-color: transparent;\n",
              "      border-bottom-color: var(--fill-color);\n",
              "      border-left-color: var(--fill-color);\n",
              "    }\n",
              "    20% {\n",
              "      border-color: transparent;\n",
              "      border-left-color: var(--fill-color);\n",
              "      border-top-color: var(--fill-color);\n",
              "    }\n",
              "    30% {\n",
              "      border-color: transparent;\n",
              "      border-left-color: var(--fill-color);\n",
              "      border-top-color: var(--fill-color);\n",
              "      border-right-color: var(--fill-color);\n",
              "    }\n",
              "    40% {\n",
              "      border-color: transparent;\n",
              "      border-right-color: var(--fill-color);\n",
              "      border-top-color: var(--fill-color);\n",
              "    }\n",
              "    60% {\n",
              "      border-color: transparent;\n",
              "      border-right-color: var(--fill-color);\n",
              "    }\n",
              "    80% {\n",
              "      border-color: transparent;\n",
              "      border-right-color: var(--fill-color);\n",
              "      border-bottom-color: var(--fill-color);\n",
              "    }\n",
              "    90% {\n",
              "      border-color: transparent;\n",
              "      border-bottom-color: var(--fill-color);\n",
              "    }\n",
              "  }\n",
              "</style>\n",
              "\n",
              "  <script>\n",
              "    async function quickchart(key) {\n",
              "      const quickchartButtonEl =\n",
              "        document.querySelector('#' + key + ' button');\n",
              "      quickchartButtonEl.disabled = true;  // To prevent multiple clicks.\n",
              "      quickchartButtonEl.classList.add('colab-df-spinner');\n",
              "      try {\n",
              "        const charts = await google.colab.kernel.invokeFunction(\n",
              "            'suggestCharts', [key], {});\n",
              "      } catch (error) {\n",
              "        console.error('Error during call to suggestCharts:', error);\n",
              "      }\n",
              "      quickchartButtonEl.classList.remove('colab-df-spinner');\n",
              "      quickchartButtonEl.classList.add('colab-df-quickchart-complete');\n",
              "    }\n",
              "    (() => {\n",
              "      let quickchartButtonEl =\n",
              "        document.querySelector('#df-679b4605-9e0b-4db1-9ed5-cd6450e70356 button');\n",
              "      quickchartButtonEl.style.display =\n",
              "        google.colab.kernel.accessAllowed ? 'block' : 'none';\n",
              "    })();\n",
              "  </script>\n",
              "</div>\n",
              "\n",
              "    </div>\n",
              "  </div>\n"
            ]
          },
          "metadata": {},
          "execution_count": 22
        }
      ]
    },
    {
      "cell_type": "code",
      "source": [
        "y[0:5]"
      ],
      "metadata": {
        "colab": {
          "base_uri": "https://localhost:8080/"
        },
        "id": "cmj-ZDucAtRd",
        "outputId": "3b73d169-6855-48b3-ab28-bb0432c7e63b"
      },
      "execution_count": null,
      "outputs": [
        {
          "output_type": "execute_result",
          "data": {
            "text/plain": [
              "0    0\n",
              "1    0\n",
              "2    0\n",
              "3    0\n",
              "4    0\n",
              "Name: class, dtype: int64"
            ]
          },
          "metadata": {},
          "execution_count": 23
        }
      ]
    },
    {
      "cell_type": "code",
      "source": [
        "X_train, X_test, y_train, y_test = train_test_split(X, y, test_size=0.2, random_state=42)"
      ],
      "metadata": {
        "id": "6fJP3JZEAtWf"
      },
      "execution_count": null,
      "outputs": []
    },
    {
      "cell_type": "markdown",
      "source": [
        "# **CREATE MLP MODEL**"
      ],
      "metadata": {
        "id": "6w2H6UaqStoG"
      }
    },
    {
      "cell_type": "code",
      "source": [
        "scaler = StandardScaler()\n",
        "X_train = scaler.fit_transform(X_train)\n",
        "X_test = scaler.transform(X_test)"
      ],
      "metadata": {
        "id": "rIaoBIqBd1kr"
      },
      "execution_count": null,
      "outputs": []
    },
    {
      "cell_type": "code",
      "source": [
        "model = keras.Sequential([\n",
        "    layers.Dense(64, activation='relu', input_shape=(4,)),\n",
        "    layers.Dense(64, activation='relu'),\n",
        "    layers.Dense(3, activation='softmax')\n",
        "])"
      ],
      "metadata": {
        "id": "9NEw4yxgdu-_"
      },
      "execution_count": null,
      "outputs": []
    },
    {
      "cell_type": "code",
      "source": [
        "model = keras.Sequential([\n",
        "    layers.Dense(64, activation='relu', input_shape=(4,)),\n",
        "    layers.Dense(64, activation='relu'),\n",
        "    layers.Dense(3, activation='softmax')])"
      ],
      "metadata": {
        "id": "B33SPgZjdm7g"
      },
      "execution_count": null,
      "outputs": []
    },
    {
      "cell_type": "code",
      "source": [
        "model.compile(optimizer='adam',\n",
        "              loss='sparse_categorical_crossentropy',\n",
        "              metrics=['accuracy'])"
      ],
      "metadata": {
        "id": "kelgEtVsuWzm"
      },
      "execution_count": null,
      "outputs": []
    },
    {
      "cell_type": "markdown",
      "source": [
        "EVALUATE THE MODLE"
      ],
      "metadata": {
        "id": "KKBcg8nlT632"
      }
    },
    {
      "cell_type": "code",
      "source": [
        "model.fit(X_train, y_train, epochs=50, batch_size=32, validation_split=0.2)"
      ],
      "metadata": {
        "colab": {
          "base_uri": "https://localhost:8080/"
        },
        "id": "58PX5xctAtgX",
        "outputId": "0282112c-6375-422f-f2a3-e06b1a8d723e"
      },
      "execution_count": null,
      "outputs": [
        {
          "output_type": "stream",
          "name": "stdout",
          "text": [
            "Epoch 1/50\n",
            "3/3 [==============================] - 1s 131ms/step - loss: 0.9745 - accuracy: 0.3750 - val_loss: 1.0062 - val_accuracy: 0.2917\n",
            "Epoch 2/50\n",
            "3/3 [==============================] - 0s 19ms/step - loss: 0.8881 - accuracy: 0.4271 - val_loss: 0.9336 - val_accuracy: 0.3333\n",
            "Epoch 3/50\n",
            "3/3 [==============================] - 0s 20ms/step - loss: 0.8175 - accuracy: 0.5312 - val_loss: 0.8695 - val_accuracy: 0.5417\n",
            "Epoch 4/50\n",
            "3/3 [==============================] - 0s 18ms/step - loss: 0.7527 - accuracy: 0.6875 - val_loss: 0.8084 - val_accuracy: 0.9167\n",
            "Epoch 5/50\n",
            "3/3 [==============================] - 0s 17ms/step - loss: 0.6970 - accuracy: 0.8021 - val_loss: 0.7529 - val_accuracy: 0.9583\n",
            "Epoch 6/50\n",
            "3/3 [==============================] - 0s 18ms/step - loss: 0.6513 - accuracy: 0.8333 - val_loss: 0.6986 - val_accuracy: 0.9583\n",
            "Epoch 7/50\n",
            "3/3 [==============================] - 0s 18ms/step - loss: 0.6065 - accuracy: 0.8229 - val_loss: 0.6529 - val_accuracy: 0.9583\n",
            "Epoch 8/50\n",
            "3/3 [==============================] - 0s 18ms/step - loss: 0.5692 - accuracy: 0.8229 - val_loss: 0.6098 - val_accuracy: 0.9167\n",
            "Epoch 9/50\n",
            "3/3 [==============================] - 0s 27ms/step - loss: 0.5365 - accuracy: 0.8229 - val_loss: 0.5691 - val_accuracy: 0.9167\n",
            "Epoch 10/50\n",
            "3/3 [==============================] - 0s 27ms/step - loss: 0.5047 - accuracy: 0.8229 - val_loss: 0.5326 - val_accuracy: 0.9167\n",
            "Epoch 11/50\n",
            "3/3 [==============================] - 0s 19ms/step - loss: 0.4779 - accuracy: 0.8333 - val_loss: 0.4988 - val_accuracy: 0.9167\n",
            "Epoch 12/50\n",
            "3/3 [==============================] - 0s 18ms/step - loss: 0.4542 - accuracy: 0.8333 - val_loss: 0.4684 - val_accuracy: 0.9167\n",
            "Epoch 13/50\n",
            "3/3 [==============================] - 0s 18ms/step - loss: 0.4305 - accuracy: 0.8333 - val_loss: 0.4394 - val_accuracy: 0.9167\n",
            "Epoch 14/50\n",
            "3/3 [==============================] - 0s 23ms/step - loss: 0.4096 - accuracy: 0.8333 - val_loss: 0.4140 - val_accuracy: 0.9167\n",
            "Epoch 15/50\n",
            "3/3 [==============================] - 0s 28ms/step - loss: 0.3919 - accuracy: 0.8333 - val_loss: 0.3898 - val_accuracy: 0.9167\n",
            "Epoch 16/50\n",
            "3/3 [==============================] - 0s 18ms/step - loss: 0.3746 - accuracy: 0.8438 - val_loss: 0.3694 - val_accuracy: 0.9167\n",
            "Epoch 17/50\n",
            "3/3 [==============================] - 0s 26ms/step - loss: 0.3586 - accuracy: 0.8646 - val_loss: 0.3515 - val_accuracy: 0.9167\n",
            "Epoch 18/50\n",
            "3/3 [==============================] - 0s 21ms/step - loss: 0.3432 - accuracy: 0.8750 - val_loss: 0.3360 - val_accuracy: 0.9167\n",
            "Epoch 19/50\n",
            "3/3 [==============================] - 0s 18ms/step - loss: 0.3297 - accuracy: 0.8750 - val_loss: 0.3236 - val_accuracy: 0.9167\n",
            "Epoch 20/50\n",
            "3/3 [==============================] - 0s 25ms/step - loss: 0.3164 - accuracy: 0.8854 - val_loss: 0.3122 - val_accuracy: 0.9167\n",
            "Epoch 21/50\n",
            "3/3 [==============================] - 0s 19ms/step - loss: 0.3045 - accuracy: 0.8958 - val_loss: 0.3027 - val_accuracy: 0.9583\n",
            "Epoch 22/50\n",
            "3/3 [==============================] - 0s 18ms/step - loss: 0.2920 - accuracy: 0.8958 - val_loss: 0.2921 - val_accuracy: 0.9583\n",
            "Epoch 23/50\n",
            "3/3 [==============================] - 0s 17ms/step - loss: 0.2805 - accuracy: 0.9062 - val_loss: 0.2805 - val_accuracy: 0.9583\n",
            "Epoch 24/50\n",
            "3/3 [==============================] - 0s 18ms/step - loss: 0.2708 - accuracy: 0.9062 - val_loss: 0.2748 - val_accuracy: 0.9583\n",
            "Epoch 25/50\n",
            "3/3 [==============================] - 0s 18ms/step - loss: 0.2589 - accuracy: 0.9271 - val_loss: 0.2649 - val_accuracy: 0.9583\n",
            "Epoch 26/50\n",
            "3/3 [==============================] - 0s 21ms/step - loss: 0.2494 - accuracy: 0.9271 - val_loss: 0.2562 - val_accuracy: 0.9583\n",
            "Epoch 27/50\n",
            "3/3 [==============================] - 0s 19ms/step - loss: 0.2395 - accuracy: 0.9375 - val_loss: 0.2514 - val_accuracy: 0.9583\n",
            "Epoch 28/50\n",
            "3/3 [==============================] - 0s 18ms/step - loss: 0.2299 - accuracy: 0.9375 - val_loss: 0.2479 - val_accuracy: 0.9167\n",
            "Epoch 29/50\n",
            "3/3 [==============================] - 0s 17ms/step - loss: 0.2212 - accuracy: 0.9479 - val_loss: 0.2443 - val_accuracy: 0.9167\n",
            "Epoch 30/50\n",
            "3/3 [==============================] - 0s 17ms/step - loss: 0.2132 - accuracy: 0.9479 - val_loss: 0.2394 - val_accuracy: 0.9167\n",
            "Epoch 31/50\n",
            "3/3 [==============================] - 0s 20ms/step - loss: 0.2049 - accuracy: 0.9479 - val_loss: 0.2386 - val_accuracy: 0.9167\n",
            "Epoch 32/50\n",
            "3/3 [==============================] - 0s 19ms/step - loss: 0.1978 - accuracy: 0.9479 - val_loss: 0.2370 - val_accuracy: 0.9167\n",
            "Epoch 33/50\n",
            "3/3 [==============================] - 0s 21ms/step - loss: 0.1900 - accuracy: 0.9479 - val_loss: 0.2313 - val_accuracy: 0.9167\n",
            "Epoch 34/50\n",
            "3/3 [==============================] - 0s 22ms/step - loss: 0.1826 - accuracy: 0.9583 - val_loss: 0.2303 - val_accuracy: 0.9167\n",
            "Epoch 35/50\n",
            "3/3 [==============================] - 0s 26ms/step - loss: 0.1762 - accuracy: 0.9583 - val_loss: 0.2310 - val_accuracy: 0.9167\n",
            "Epoch 36/50\n",
            "3/3 [==============================] - 0s 18ms/step - loss: 0.1697 - accuracy: 0.9583 - val_loss: 0.2275 - val_accuracy: 0.9167\n",
            "Epoch 37/50\n",
            "3/3 [==============================] - 0s 18ms/step - loss: 0.1629 - accuracy: 0.9583 - val_loss: 0.2268 - val_accuracy: 0.9167\n",
            "Epoch 38/50\n",
            "3/3 [==============================] - 0s 30ms/step - loss: 0.1568 - accuracy: 0.9583 - val_loss: 0.2255 - val_accuracy: 0.9167\n",
            "Epoch 39/50\n",
            "3/3 [==============================] - 0s 19ms/step - loss: 0.1507 - accuracy: 0.9583 - val_loss: 0.2228 - val_accuracy: 0.9167\n",
            "Epoch 40/50\n",
            "3/3 [==============================] - 0s 28ms/step - loss: 0.1460 - accuracy: 0.9688 - val_loss: 0.2260 - val_accuracy: 0.9167\n",
            "Epoch 41/50\n",
            "3/3 [==============================] - 0s 34ms/step - loss: 0.1404 - accuracy: 0.9688 - val_loss: 0.2234 - val_accuracy: 0.9167\n",
            "Epoch 42/50\n",
            "3/3 [==============================] - 0s 38ms/step - loss: 0.1353 - accuracy: 0.9688 - val_loss: 0.2240 - val_accuracy: 0.9167\n",
            "Epoch 43/50\n",
            "3/3 [==============================] - 0s 29ms/step - loss: 0.1305 - accuracy: 0.9688 - val_loss: 0.2271 - val_accuracy: 0.9167\n",
            "Epoch 44/50\n",
            "3/3 [==============================] - 0s 34ms/step - loss: 0.1269 - accuracy: 0.9688 - val_loss: 0.2280 - val_accuracy: 0.9167\n",
            "Epoch 45/50\n",
            "3/3 [==============================] - 0s 36ms/step - loss: 0.1224 - accuracy: 0.9688 - val_loss: 0.2370 - val_accuracy: 0.9167\n",
            "Epoch 46/50\n",
            "3/3 [==============================] - 0s 38ms/step - loss: 0.1179 - accuracy: 0.9688 - val_loss: 0.2367 - val_accuracy: 0.9167\n",
            "Epoch 47/50\n",
            "3/3 [==============================] - 0s 39ms/step - loss: 0.1140 - accuracy: 0.9688 - val_loss: 0.2347 - val_accuracy: 0.9167\n",
            "Epoch 48/50\n",
            "3/3 [==============================] - 0s 50ms/step - loss: 0.1109 - accuracy: 0.9688 - val_loss: 0.2280 - val_accuracy: 0.9167\n",
            "Epoch 49/50\n",
            "3/3 [==============================] - 0s 25ms/step - loss: 0.1072 - accuracy: 0.9688 - val_loss: 0.2303 - val_accuracy: 0.9167\n",
            "Epoch 50/50\n",
            "3/3 [==============================] - 0s 32ms/step - loss: 0.1046 - accuracy: 0.9688 - val_loss: 0.2383 - val_accuracy: 0.9167\n"
          ]
        },
        {
          "output_type": "execute_result",
          "data": {
            "text/plain": [
              "<keras.src.callbacks.History at 0x7c679d6eaf80>"
            ]
          },
          "metadata": {},
          "execution_count": 36
        }
      ]
    },
    {
      "cell_type": "code",
      "source": [
        "test_loss, test_accuracy = model.evaluate(X_test, y_test)\n",
        "print(f\"Test Accuracy: {test_accuracy}\")"
      ],
      "metadata": {
        "id": "a-HFk9NvAtj1",
        "colab": {
          "base_uri": "https://localhost:8080/"
        },
        "outputId": "6ab9f12c-69d6-4656-96f0-d71258fed339"
      },
      "execution_count": null,
      "outputs": [
        {
          "output_type": "stream",
          "name": "stdout",
          "text": [
            "1/1 [==============================] - 0s 43ms/step - loss: 0.0889 - accuracy: 1.0000\n",
            "Test Accuracy: 1.0\n"
          ]
        }
      ]
    },
    {
      "cell_type": "code",
      "source": [
        "predictions = model.predict(X_test)\n",
        "predicted_classes = predictions.argmax(axis=1)"
      ],
      "metadata": {
        "colab": {
          "base_uri": "https://localhost:8080/"
        },
        "id": "2gp_QlNJqVn8",
        "outputId": "bd3e6808-d078-4db1-86eb-b6fc36e91e70"
      },
      "execution_count": null,
      "outputs": [
        {
          "output_type": "stream",
          "name": "stdout",
          "text": [
            "1/1 [==============================] - 0s 89ms/step\n"
          ]
        }
      ]
    },
    {
      "cell_type": "code",
      "source": [
        "predicted_class_labels = [list(class_mapping.keys())[i] for i in predicted_classes]"
      ],
      "metadata": {
        "id": "vrMg6veyueO-"
      },
      "execution_count": null,
      "outputs": []
    },
    {
      "cell_type": "code",
      "source": [
        "print(\"True Classes:\", list(y_test))\n",
        "print(\"Predicted Classes:\", predicted_class_labels)"
      ],
      "metadata": {
        "colab": {
          "base_uri": "https://localhost:8080/"
        },
        "id": "BQqNtPfRug3L",
        "outputId": "d44841c3-e0fa-4c13-cae6-b6606a583a87"
      },
      "execution_count": null,
      "outputs": [
        {
          "output_type": "stream",
          "name": "stdout",
          "text": [
            "True Classes: [1, 0, 2, 1, 1, 0, 1, 2, 1, 1, 2, 0, 0, 0, 0, 1, 2, 1, 1, 2, 0, 2, 0, 2, 2, 2, 2, 2, 0, 0]\n",
            "Predicted Classes: ['Iris-versicolor', 'Iris-setosa', 'Iris-virginica', 'Iris-versicolor', 'Iris-versicolor', 'Iris-setosa', 'Iris-versicolor', 'Iris-virginica', 'Iris-versicolor', 'Iris-versicolor', 'Iris-virginica', 'Iris-setosa', 'Iris-setosa', 'Iris-setosa', 'Iris-setosa', 'Iris-versicolor', 'Iris-virginica', 'Iris-versicolor', 'Iris-versicolor', 'Iris-virginica', 'Iris-setosa', 'Iris-virginica', 'Iris-setosa', 'Iris-virginica', 'Iris-virginica', 'Iris-virginica', 'Iris-virginica', 'Iris-virginica', 'Iris-setosa', 'Iris-setosa']\n"
          ]
        }
      ]
    },
    {
      "cell_type": "code",
      "source": [],
      "metadata": {
        "id": "cA054735umN7"
      },
      "execution_count": null,
      "outputs": []
    }
  ]
}